{
 "cells": [
  {
   "cell_type": "markdown",
   "metadata": {},
   "source": [
    "---\n",
    "layout: post\n",
    "title: Legal and Ethical Concerns Homework\n",
    "description:  Homework for LegalEthical, Ahaan, Arnav, Wyatt \n",
    "type: issues \n",
    "comments: true\n",
    "courses: { csp: {week: 1} }\n",
    "comments: True\n",
    "sticky_rank: 1\n",
    "permalink: /LegalEthical/\n",
    "---"
   ]
  },
  {
   "cell_type": "markdown",
   "metadata": {},
   "source": [
    "### Popcorn Hack:\n",
    "\n",
    "- You can protect intellectual property through patents, copyrights, trademarks, trade secrets, and legal agreements like NDAs. These protections help creators and inventors get the credit and financial rewards they deserve, keep competition fair, and encourage more innovation."
   ]
  },
  {
   "cell_type": "markdown",
   "metadata": {},
   "source": [
    "### MC Sample Question\n",
    "Which of the following actions best helps a content creator prevent intellectual property rights violations when sharing digital content online?\n",
    "\n",
    "A. Releasing content under an open-source license without restrictions\n",
    "B Adding watermarks and using digital rights management (DRM) tools\n",
    "C. Ignoring unauthorized use of their content to encourage wider distribution\n",
    "D. Keeping all content offline and never sharing it on the internet\n",
    "\n",
    "\n",
    "I answered B, which is correct\n",
    "\n",
    "\n",
    "### Popcorn Hack \n",
    "\n",
    "\n",
    "- The MIT License is a simple way to let others use your work while making sure you get credit. People can copy, change, and share it, even for money, but they have to include your name. You’re not responsible if something goes wrong.\n",
    "\n",
    "#### How can I use it on my own repo \n",
    "\n",
    "- Copyright (c) [Year] [Your Name]\n",
    "\n",
    "- Anyone can use, copy, change, and share this software, even for business. The only rule is they must keep this notice.\n",
    "\n",
    "- This software comes as-is, with no promises that it will work perfectly. If something goes wrong, the creator isn’t responsible.\n",
    "\n",
    "\n",
    "### Popcorn Hack\n",
    "\n",
    "A Creative Commons (CC) License is a way for creators to share their work with the public while keeping some rights. It allows others to use, copy, and distribute the work under certain conditions set by the creator, such as giving credit or not using it for commercial purposes.\n",
    "\n",
    "Exceptions to Copyright Law\n",
    "There are some cases where copyrighted work can be used without permission, including:\n",
    "\n",
    "Fair Use – Limited use for education, news, criticism, or parody.\n",
    "\n",
    "Public Domain – Works that are no longer under copyright or never had one.\n",
    "\n",
    "Creative Commons & Open Licenses – When creators allow free use under certain conditions.\n",
    "\n",
    "Government Works – Some government documents and materials are free to use.\n",
    "\n",
    "### Homework Hack\n",
    "\n",
    "Task 1: I choose the MIT License because it is simple, permissive, and widely used for open-source projects.\n",
    "\n",
    "Task 2: MIT License allows anyone to use, modify, and distribute my project while giving me credit. It keeps things flexible by letting users incorporate my work into their own projects, even for commercial use. This is great for encouraging collaboration and wider adoption. At the same time, it protects me from any legal issues since the software is provided “as is.” Overall, it ensures my work is accessible while maintaining proper attribution.\n",
    "\n",
    "\n",
    "https://github.com/rc765445/rutvik_2025/blob/main/LICENSE\n",
    "\n",
    "\n",
    "### Popcorn Hack \n",
    "\n",
    " To prevent copyright infringement:\n",
    "- Always give credit to the original creator.\n",
    "- Use Creative Commons or open-source licensed content.\n",
    "- Get permission before using someone else’s work.\n",
    "- Create original content instead of copying.\n",
    "- Use royalty-free or copyright-free resources.\n",
    "- Follow Fair Use guidelines when using copyrighted material.\n",
    "- Properly cite sources in academic or professional work.\n",
    "- Purchase or legally obtain software, music, and media.\n",
    "\n"
   ]
  }
 ],
 "metadata": {
  "language_info": {
   "name": "python"
  }
 },
 "nbformat": 4,
 "nbformat_minor": 2
}
