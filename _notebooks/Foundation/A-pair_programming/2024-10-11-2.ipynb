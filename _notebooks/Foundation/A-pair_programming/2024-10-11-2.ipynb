{
 "cells": [
  {
   "cell_type": "markdown",
   "metadata": {},
   "source": [
    "---\n",
    "layout: post\n",
    "title: 3.2 Homework \n",
    "permalink: /3.2/\n",
    "toc: true\n",
    "---"
   ]
  },
  {
   "cell_type": "code",
   "execution_count": null,
   "metadata": {},
   "outputs": [],
   "source": [
    "# Function to add two integers\n",
    "def add_two_numbers(num1, num2):\n",
    "    return num1 + num2\n",
    "\n",
    "# Input two integers from the user\n",
    "num1 = int(input(\"Enter the first integer: \"))\n",
    "num2 = int(input(\"Enter the second integer: \"))\n",
    "\n",
    "# Calculate the sum\n",
    "result = add_two_numbers(num1, num2)\n",
    "\n",
    "# Print the result\n",
    "print(f\"The sum of {num1} and {num2} is: {result}\")\n"
   ]
  },
  {
   "cell_type": "code",
   "execution_count": null,
   "metadata": {},
   "outputs": [],
   "source": [
    "# Create a dictionary\n",
    "car = {\n",
    "    \"make\": \"Toyota\",\n",
    "    \"model\": \"Camry\",\n",
    "    \"year\": 2020\n",
    "}\n",
    "\n",
    "# Update an existing item (updating the year)\n",
    "car[\"year\"] = 2022\n",
    "\n",
    "# Add a new item (adding color)\n",
    "car[\"color\"] = \"Blue\"\n",
    "\n",
    "# Print the updated dictionary\n",
    "print(car)\n"
   ]
  },
  {
   "cell_type": "code",
   "execution_count": null,
   "metadata": {},
   "outputs": [],
   "source": [
    "import json\n",
    "\n",
    "# Initial JSON string\n",
    "json_data = '{\"name\": \"Alice\", \"age\": 30, \"city\": \"San Francisco\"}'\n",
    "\n",
    "# Load the JSON string into a Python dictionary\n",
    "person = json.loads(json_data)\n",
    "\n",
    "# Modify the dictionary (updating age and adding occupation)\n",
    "person[\"age\"] = 31\n",
    "person[\"occupation\"] = \"Designer\"\n",
    "\n",
    "# Convert the updated dictionary back to a JSON string\n",
    "updated_json_data = json.dumps(person, indent=4)\n",
    "\n",
    "# Print the updated JSON data\n",
    "print(updated_json_data)\n"
   ]
  },
  {
   "cell_type": "code",
   "execution_count": null,
   "metadata": {},
   "outputs": [],
   "source": [
    "# Step 1: Create a dictionary with at least 3 keys and print it\n",
    "student = {\n",
    "    \"name\": \"John\",\n",
    "    \"grade\": \"A\",\n",
    "    \"subject\": \"Mathematics\"\n",
    "}\n",
    "\n",
    "# Print the dictionary\n",
    "print(\"Initial dictionary:\", student)\n",
    "\n",
    "# Step 2: Modify the `person` dictionary\n",
    "person = {\"name\": \"Alice\", \"age\": 30}\n",
    "\n",
    "# i. Update the age to 31\n",
    "person[\"age\"] = 31\n",
    "\n",
    "# ii. Print the updated dictionary\n",
    "print(\"Updated dictionary:\", person)\n"
   ]
  }
 ],
 "metadata": {
  "kernelspec": {
   "display_name": "venv",
   "language": "python",
   "name": "python3"
  },
  "language_info": {
   "name": "python",
   "version": "3.12.5"
  }
 },
 "nbformat": 4,
 "nbformat_minor": 2
}
