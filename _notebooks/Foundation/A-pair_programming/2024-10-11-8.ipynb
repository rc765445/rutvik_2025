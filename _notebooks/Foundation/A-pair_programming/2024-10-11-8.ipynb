{
 "cells": [
  {
   "cell_type": "markdown",
   "metadata": {},
   "source": [
    "---\n",
    "layout: post\n",
    "title: 3.8 Homework \n",
    "permalink: /3.8/\n",
    "toc: true\n",
    "---"
   ]
  },
  {
   "cell_type": "code",
   "execution_count": null,
   "metadata": {},
   "outputs": [],
   "source": [
    "# Initialize an empty dictionary\n",
    "nums = {}\n",
    "\n",
    "# Input range from user\n",
    "start = int(input(\"Enter the start of the range: \"))\n",
    "end = int(input(\"Enter the end of the range: \"))\n",
    "\n",
    "# Loop through the range and find numbers divisible by 2\n",
    "for i in range(start, end + 1):\n",
    "    if i % 2 == 0:\n",
    "        nums[i] = \"divisible by 2\"\n",
    "\n",
    "# Print numbers divisible by 2\n",
    "for key in nums:\n",
    "    print(f\"{key} is {nums[key]}\")\n"
   ]
  },
  {
   "cell_type": "code",
   "execution_count": null,
   "metadata": {},
   "outputs": [],
   "source": [
    "# List of colors\n",
    "colors = [\"red\", \"blue\", \"green\", \"yellow\"]\n",
    "\n",
    "# For loop to iterate through the list and print each color\n",
    "for color in colors:\n",
    "    print(color)\n"
   ]
  },
  {
   "cell_type": "code",
   "execution_count": null,
   "metadata": {},
   "outputs": [],
   "source": [
    "# Dictionary of fruits and their quantities\n",
    "fruits = {\"apple\": 3, \"banana\": 5, \"cherry\": 7}\n",
    "\n",
    "# For loop to iterate through the dictionary and print each fruit and its quantity\n",
    "for fruit, quantity in fruits.items():\n",
    "    print(f\"{fruit} : {quantity}\")\n"
   ]
  },
  {
   "cell_type": "code",
   "execution_count": null,
   "metadata": {},
   "outputs": [],
   "source": [
    "# Given list of numbers\n",
    "numbers = [1, 2, 3, 4, 5]\n",
    "\n",
    "# For loop to iterate through the list\n",
    "for num in numbers:\n",
    "    # Skip the number 3\n",
    "    if num == 3:\n",
    "        continue\n",
    "    # Stop the loop when 5 is encountered\n",
    "    if num == 5:\n",
    "        break\n",
    "    # Print the remaining numbers\n",
    "    print(num)\n"
   ]
  }
 ],
 "metadata": {
  "language_info": {
   "name": "python"
  }
 },
 "nbformat": 4,
 "nbformat_minor": 2
}
