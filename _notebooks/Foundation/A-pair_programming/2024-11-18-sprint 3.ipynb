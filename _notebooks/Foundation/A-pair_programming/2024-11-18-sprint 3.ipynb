{
 "cells": [
  {
   "cell_type": "markdown",
   "metadata": {},
   "source": [
    "---\n",
    "layout: post\n",
    "title: Sprint 3 Reflection\n",
    "toc: True\n",
    "permalink: /sprint3\n",
    "---\n",
    "\n",
    "---\n",
    "layout: post\n",
    "title: Sprint 3 Reflection\n",
    "description: Establishing pair programming habits in the classroom.  This will extend to other forms of collaboration, such as group work and team projects. \n",
    "categories: [Collaboration]\n",
    "courses: { csse: {week: 1}, csp: {week: 1}, csa: {week: 1} }\n",
    "menu: nav/pair_programming.html\n",
    "permalink: /pair/habits\n",
    "type: collab\n",
    "comments: true\n",
    "sticky_rank: 1\n",
    "---"
   ]
  },
  {
   "cell_type": "markdown",
   "metadata": {
    "vscode": {
     "languageId": "plaintext"
    }
   },
   "source": [
    "SPRINT 3 REFLECTION:\n",
    "\n",
    "One thing I did really great in my group for sprint 3 was collaborating. At first we didnt have that much time where we could \n",
    "all work. We were procrastinating and kept things till the last few days. However, overtime we realized that we haven't really\n",
    "done anything. We started better coordinating and working on the project which made it easier. In the end of we ended off sprint\n",
    "3 on a good note. Another thing I was good at was problem solving. We had many git log errors but I learned that git pull rebase \n",
    "fixes it. In this way I was able to fix my friends error and mine. \n",
    "\n",
    "\n",
    "COLLEGE BOARD PRACTICE MCQ:\n",
    "\n",
    "Going into the MCQ I didnt know that much but I was confident. I ended up getting a 29/66 on it which was very suprising to me. \n",
    "The questions that I struggled with were the questions about internet communication and loop algorithims. I stuggled with these \n",
    "questions because I didnt understand the concept of them which confused me since I didnt understand it. I got most of those questions \n",
    "wrong. Through this experience, I learned that I dont know a large portion of the college board MC. I need to focus on internet\n",
    "communication, loop algoithims, and many others. After this I think I will have a better understanding of CSP and what I should\n",
    "focus on.\n",
    "\n",
    "CORRECTIONS:\n",
    "\n",
    "A programmer is creating an algorithm to set the value of One word, ticket Price based on the information in the table. The programmer uses the integer  variable age for the age of the moviegoer. The Boolean variable One word, is 3 D is true when the movie is 3-D and false otherwise.\n",
    "\n",
    "Which of the following code segments correctly sets the value of One word, ticket Price ?\n",
    "\n"
   ]
  }
 ],
 "metadata": {
  "language_info": {
   "name": "python"
  }
 },
 "nbformat": 4,
 "nbformat_minor": 2
}
