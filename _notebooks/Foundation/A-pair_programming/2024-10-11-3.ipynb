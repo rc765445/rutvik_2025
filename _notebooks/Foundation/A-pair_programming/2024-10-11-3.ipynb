{
 "cells": [
  {
   "cell_type": "markdown",
   "metadata": {},
   "source": [
    "---\n",
    "layout: post\n",
    "title: 3.3 and 3.5 Homework \n",
    "permalink: /3.3/\n",
    "toc: true\n",
    "---"
   ]
  },
  {
   "cell_type": "code",
   "execution_count": null,
   "metadata": {},
   "outputs": [],
   "source": [
    "# Function to add two numbers\n",
    "def add(a, b):\n",
    "    return a + b\n",
    "\n",
    "# Function to subtract two numbers\n",
    "def subtract(a, b):\n",
    "    return a - b\n",
    "\n",
    "# Function to divide two numbers\n",
    "def divide(a, b):\n",
    "    if b != 0:\n",
    "        return a / b\n",
    "    else:\n",
    "        return \"Error: Division by zero\"\n",
    "\n",
    "# Function to find the modulus of two numbers\n",
    "def modulus(a, b):\n",
    "    return a % b\n",
    "\n",
    "# Function to raise parameter A to the power of parameter B\n",
    "def power(a, b):\n",
    "    return a ** b\n",
    "\n",
    "# Examp\n"
   ]
  },
  {
   "cell_type": "code",
   "execution_count": null,
   "metadata": {},
   "outputs": [],
   "source": [
    "# Function to find a point on the graph of f(x) = 5x + 2\n",
    "def find_point_on_graph(x):\n",
    "    # Calculate y using the equation f(x) = 5x + 2\n",
    "    y = 5 * x + 2\n",
    "    return (x, y)\n",
    "\n",
    "# Example usage\n",
    "x_value = 4  # You can change this value to find points for different x\n",
    "point = find_point_on_graph(x_value)\n",
    "print(f\"The point on the graph for x = {x_value} is: {point}\")\n"
   ]
  },
  {
   "cell_type": "code",
   "execution_count": null,
   "metadata": {},
   "outputs": [],
   "source": [
    "# Function to determine if you should go outside\n",
    "def should_go_outside(temperature, is_raining):\n",
    "    # Check the conditions\n",
    "    if temperature < 100 and is_raining:\n",
    "        return True\n",
    "    elif temperature > 32 and not is_raining:\n",
    "        return True\n",
    "    else:\n",
    "        return False\n",
    "\n",
    "# Example usage\n",
    "temp = 75  # You can change this value for different temperatures\n",
    "is_raining = False  # Set to True if it is raining\n",
    "\n",
    "# Check if you should go outside\n",
    "result = should_go_outside(temp, is_raining)\n",
    "print(f\"Should you go outside? {'Yes' if result else 'No'}\")\n"
   ]
  },
  {
   "cell_type": "code",
   "execution_count": null,
   "metadata": {},
   "outputs": [],
   "source": [
    "// Expression 1\n",
    "let stayInside = !(isRaining && isCold);\n",
    "// Using De Morgan's Law\n",
    "let stayInsideSimplified1 = !isRaining || !isCold;\n",
    "\n",
    "// Expression 2\n",
    "let stayInside = !(isRaining || isCold);\n",
    "// Using De Morgan's Law\n",
    "let stayInsideSimplified2 = !isRaining && !isCold;\n",
    "\n",
    "// Output the results\n",
    "console.log(\"Original Expression 1:\", stayInside);\n",
    "console.log(\"Simplified Expression 1:\", stayInsideSimplified1);\n",
    "console.log(\"Original Expression 2:\", stayInside);\n",
    "console.log(\"Simplified Expression 2:\", stayInsideSimplified2);\n"
   ]
  }
 ],
 "metadata": {
  "language_info": {
   "name": "python"
  }
 },
 "nbformat": 4,
 "nbformat_minor": 2
}
