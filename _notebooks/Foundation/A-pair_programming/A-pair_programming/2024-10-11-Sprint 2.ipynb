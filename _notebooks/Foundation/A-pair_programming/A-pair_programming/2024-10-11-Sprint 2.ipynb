{
 "cells": [
  {
   "cell_type": "markdown",
   "metadata": {},
   "source": [
    "---\n",
    "layout: post\n",
    "title: Sprint 2 Reflection\n",
    "permalink: /Sprint 2/\n",
    "toc: True\n",
    "---"
   ]
  },
  {
   "cell_type": "markdown",
   "metadata": {
    "vscode": {
     "languageId": "plaintext"
    }
   },
   "source": [
    "Blog: \n",
    "\n",
    "Hi my name is Rutvik. My group taught 3.6 and 3.7 which was nested, python, and javascript conditionals. I specifically did 3.6.3 which was python conditionals. Some background on me my parents are softwares engineers and I know some coding but too much, just a little bit of python. So learning to code has been an exciting and rewarding journey for me. At first, I didnt really know how to code and I was struggling at first with many issues with the make file. . However, I’ve picked up a lot, from understanding basic Python conditionals to mastering more complex ideas like nested conditionals, integration, and De Morgan’s Law. Something that made this project more memorable interactions we made throughout the project such as the quiz we made because it made it more interesting for learning. \n",
    "\n",
    "\n",
    "Memory: \n",
    "One of the methods that helped me learn so well was breaking problems down into smaller pieces. Whether it was a challenging project or just a new concept, focusing on one small part at a time made it less overwhelming. I also spent a lot of time practicing by coding real problems, which helped me internalize everything I was learning. Platforms that offer coding challenges were super helpful for this, as they let me apply concepts like JavaScript conditionals in different scenarios.\n",
    "\n",
    "Revelancy: \n",
    "\n",
    "I think Trevors group did a great job on teaching.  This is because it was well organized and colorful which made it easier to understand more about Mathmatical operations and expressions.\n",
    "\n",
    "Something that helped with how I would be prepared for the AP Exam and PBL is the student presentations and interactions with them. This made it more beneficial because students were actually teaching instead of just the teacheer. Furthermore, the homework solidified my understanding of the concepts and helped me better understand them."
   ]
  }
 ],
 "metadata": {
  "language_info": {
   "name": "python"
  }
 },
 "nbformat": 4,
 "nbformat_minor": 2
}
