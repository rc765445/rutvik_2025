{
 "cells": [
  {
   "cell_type": "markdown",
   "metadata": {},
   "source": [
    "---\n",
    "layout: post\n",
    "title: Sprint 2 Reflection\n",
    "permalink: /Sprint 2/\n",
    "toc: True\n",
    "---"
   ]
  },
  {
   "cell_type": "markdown",
   "metadata": {
    "vscode": {
     "languageId": "plaintext"
    }
   },
   "source": [
    "Learning to code has been an exciting and rewarding journey for me. I’ve picked up a lot, from understanding basic Python conditionals to mastering more complex ideas like nested conditionals, integration, and De Morgan’s Law. Each new concept felt like unlocking a new level of problem-solving, and I found that with each step forward, I grew more confident in my abilities.\n",
    "\n",
    "One of the methods that helped me learn so well was breaking problems down into smaller pieces. Whether it was a challenging project or just a new concept, focusing on one small part at a time made it less overwhelming. I also spent a lot of time practicing by coding real problems, which helped me internalize everything I was learning. Platforms that offer coding challenges were super helpful for this, as they let me apply concepts like JavaScript conditionals in different scenarios.\n",
    "\n",
    "I’m feeling really confident as I prepare for the AP Computer Science Principles exam. The journey has taught me that coding isn’t just about memorizing syntax—it’s about thinking logically and solving problems creatively. With all the practice and understanding I’ve gained, I feel ready to tackle whatever comes next."
   ]
  }
 ],
 "metadata": {
  "language_info": {
   "name": "python"
  }
 },
 "nbformat": 4,
 "nbformat_minor": 2
}
