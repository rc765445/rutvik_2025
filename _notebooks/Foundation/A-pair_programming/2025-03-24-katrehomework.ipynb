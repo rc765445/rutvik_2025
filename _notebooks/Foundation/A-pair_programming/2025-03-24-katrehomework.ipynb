{
  "cells": [
    {
      "cell_type": "markdown",
      "metadata": {
        "id": "CUwV6JjZboQc"
      },
      "source": [
        "# Digital Divide Homework\n",
        "\n",
        "**DOWNLOAD AND COPY THIS NOTEBOOK TO YOUR PERSONAL REPOSITORY**\n",
        "\n",
        "Download and extract [this](https://www.kaggle.com/datasets/kanchana1990/world-internet-usage-data-2023-updated) dataset from kaggle and move it into the same folder as this notebook.\n",
        "\n",
        "All the preprocessing has been done for you, and the unneeded columns have been dropped. Your task is to loop through the Rate (WB) column and print the country name associated with the percentage, the percentage, and \"doing great\" if the percentage is above 70% or \"needs improvement\" if not above 70%.\n",
        "\n",
        "For example, 18.4% of people in Afghanistan have access to the internet (According to data from the World Bank), so you would print \"Afghanistan: 18.4: Needs improvement\"\n",
        "\n",
        "On the other hand, Albania has 83.1% internet access so you would print \"Albania: 83.1%: doing great\""
      ]
    },
    {
      "cell_type": "code",
      "execution_count": 2,
      "metadata": {
        "colab": {
          "base_uri": "https://localhost:8080/"
        },
        "id": "pHcbe6mfWz2a",
        "outputId": "ce06ae44-de30-4200-c842-79228c35615f"
      },
      "outputs": [
        {
          "name": "stdout",
          "output_type": "stream",
          "text": [
            "      Location  Rate (WB)    Year\n",
            "0        World       67.4  2023.0\n",
            "1  Afghanistan       18.4  2020.0\n",
            "2      Albania       83.1  2023.0\n",
            "3      Algeria       71.2  2022.0\n",
            "5      Andorra       94.5  2022.0\n"
          ]
        }
      ],
      "source": [
        "import pandas as pd\n",
        "\n",
        "data = pd.read_csv(\"internet_users.csv\").drop(columns=['Notes', 'Year.2', 'Users (CIA)', 'Rate (ITU)', 'Year.1']) # Drop extra columns: we will not be using these\n",
        "\n",
        "data_cleaned = data.dropna() # Drop rows with NaN (aka blank) values\n",
        "\n",
        "print(data_cleaned.head()) # Display the first few rows of the cleaned data\n",
        "\n",
        "# print(len(data)) # Check num of rows before removing blank rows\n",
        "# print(len(data_cleaned)) # Check num of rows after removing blank rows"
      ]
    },
    {
      "cell_type": "code",
      "execution_count": 3,
      "metadata": {
        "id": "_lIsFSjMWdlU"
      },
      "outputs": [],
      "source": [
        "y = data_cleaned['Rate (WB)'] # Take Percentage of the population using the internet from World Bank data in dataset\n",
        "name = data_cleaned['Location'] # take contry name from WB data in dataset\n",
        "\n",
        "# [INSERT YOUR CODE HERE]"
      ]
    },
    {
      "cell_type": "markdown",
      "metadata": {
        "id": "epFebW7seJdL"
      },
      "source": [
        "# Submission Instructions\n",
        "\n",
        "Link your notebook on your personal repository **with all the code cells executed** on [this google form](https://docs.google.com/forms/d/e/1FAIpQLSfoeD9YkYSNtQzHxfSILKQU_RIfXgftufUGT86oz5rmcPnnlg/viewform).\n",
        "\n",
        "Also write a 3 sentence summary of what you added and HOW it works."
      ]
    }
  ],
  "metadata": {
    "colab": {
      "provenance": []
    },
    "kernelspec": {
      "display_name": "Python 3",
      "name": "python3"
    },
    "language_info": {
      "name": "python"
    }
  },
  "nbformat": 4,
  "nbformat_minor": 0
}
