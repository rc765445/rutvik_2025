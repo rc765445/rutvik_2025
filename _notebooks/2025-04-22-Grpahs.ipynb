{
 "cells": [
  {
   "cell_type": "markdown",
   "id": "f412ec58",
   "metadata": {},
   "source": [
    "---\n",
    "layout: post\n",
    "title: Random Algorithms Homework\n",
    "description:  Homework for Random , Arhaan, Ahmad, Manas \n",
    "type: issues \n",
    "comments: true\n",
    "courses: { csp: {week: 1} }\n",
    "comments: True\n",
    "sticky_rank: 1\n",
    "permalink: /RandomAlgorithms/\n",
    "---"
   ]
  },
  {
   "cell_type": "markdown",
   "id": "eeb69628",
   "metadata": {},
   "source": [
    "### Popcorn Hack #1 \n",
    "\n",
    "- Popcorn Hack #1\n",
    "- True or False: In a directed graph, an edge from node A to node B implies that there is always a corresponding edge from node B to node A.\n",
    "\n",
    "- False In a directed graph, an edge from node A to node B does not imply that there is a corresponding edge from node B to node A. \n",
    "\n",
    "### Popcorn Hack #2\n",
    "\n",
    "- True or False: Heuristics always provide faster solutions than exact algorithms, but they may sacrifice accuracy for speed.\n",
    "- True, Heuristics are designed to provide faster solutions by using approximations or shortcuts, often sacrificing some degree of accuracy or optimality in the process. \n",
    "\n",
    "### Popcorn Hack #3 \n",
    "True or False: While heuristic algorithms like the Nearest Neighbor algorithm can significantly reduce the computational time for TSP, they can never guarantee an optimal solution, and the gap between the heuristic solution and the optimal solution can grow exponentially as the number of cities increases.\n",
    "- True, The Nearest Neighbor algorithm and other heuristic algorithms can significantly reduce the computational time for solving the Traveling Salesman Problem (TSP), but they cannot guarantee an optimal solution. As the number of cities increases, the gap between the heuristic solution and the optimal solution can indeed grow exponentially. Heuristics like Nearest Neighbor offer good approximations, but the larger the problem, the more likely the solution is suboptimal, especially as the search space grows rapidly.\n",
    "\n",
    "\n",
    "### Homework Hack #1\n",
    "\n",
    "\n",
    "### Social Network Analysis and Graph Theory\n",
    "\n",
    "Social Network Analysis (SNA) uses graphs to study relationships between people or entities. In these graphs:\n",
    "\n",
    "- Nodes represent individual users.\n",
    "- Edges represent relationships or interactions between those users (e.g., friendships, follows, or likes).\n",
    "\n",
    "### How It Works:\n",
    "- Nodes: Each user on a social media platform, like Facebook or Twitter, is a node.\n",
    "- Edges: The connections (or interactions) between users form edges. For example:\n",
    "  - On Facebook, a friendship is an undirected edge.\n",
    "  - On Twitter, a follow is a directed edge from one user to another.\n",
    "\n",
    "### Real-World Example: Facebook\n",
    "Facebook’s social graph is a great example of graph theory in action. Each user is a node, and friendships are edges. Facebook uses graph algorithms to:\n",
    "- Recommend friends: By analyzing your connections and mutual friends.\n",
    "- **Identify influencers: Users with many connections or high centrality.\n",
    "- Find communities: Groups of users who are more closely connected to each other than to others.\n",
    "\n",
    "In short, graph theory helps social media platforms like Facebook make connections smarter, suggest content, and enhance user experiences.\n"
   ]
  }
 ],
 "metadata": {
  "language_info": {
   "name": "python"
  }
 },
 "nbformat": 4,
 "nbformat_minor": 5
}
