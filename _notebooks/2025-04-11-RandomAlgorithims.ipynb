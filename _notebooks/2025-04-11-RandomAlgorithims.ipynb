{
 "cells": [
  {
   "cell_type": "markdown",
   "id": "8c23a63b",
   "metadata": {},
   "source": [
    "---\n",
    "layout: post\n",
    "title: Random Algorithms Homework\n",
    "description:  Homework for Random Algorithms Homework, Arhaan, Ahmad, Manas \n",
    "type: issues \n",
    "comments: true\n",
    "courses: { csp: {week: 1} }\n",
    "comments: True\n",
    "sticky_rank: 1\n",
    "permalink: /RandomAlgorithms/\n",
    "---\n"
   ]
  },
  {
   "cell_type": "markdown",
   "id": "65a3ef4d",
   "metadata": {},
   "source": [
    "Popcorn Hack #1: Brainstorm\n",
    "\n",
    "1. What do you think a random algorithm is?\n",
    "- A random algorithm is an algorithm that uses randomness or chance to make decisions during its process. It might randomly choose numbers, elements, or the order of actions. This means the same input might give different outputs each time the code runs.\n",
    "\n",
    "2. What would be a reason to use random algorithms in real-life coding situations?\n",
    "\n",
    "- Some random algorithms are faster or simpler (e.g., QuickSort with random pivot).\n",
    "\n",
    "- Fairness: Used in lotteries, seating assignments, or games.\n",
    "\n",
    "- Simulation: Helps model real-life randomness like weather or traffic.\n",
    "\n",
    "- Machine Learning: Random sampling or initialization improves model performance.\n",
    "\n",
    "- Security: Essential for cryptography and generating secure passwords.\n",
    "\n",
    "3. What kind of questions do you think College Board will ask regarding random algorithms?\n",
    "\n",
    "- What will this code output using random?\n",
    "\n",
    "- Why use randomness in this situation?\n",
    "\n",
    "- What are the pros/cons of using randomness?\n",
    "\n",
    "- Trace an algorithm with a set random seed.\n",
    "\n",
    "- How does randomness affect testing and reproducibility?\n",
    "\n",
    "\n",
    "# Popcorn Hack #2 (Random): Choose a daily activity\n",
    "\n",
    "```python\n",
    "\n",
    "import random\n",
    "\n",
    "activities = ['Hike a trail', 'Draw something', 'Play guitar', 'Bake cookies', 'Do yoga']\n",
    "random_activity = random.choice(activities)\n",
    "print(f\"Today’s random activity: {random_activity}\")\n",
    "```"
   ]
  }
 ],
 "metadata": {
  "language_info": {
   "name": "python"
  }
 },
 "nbformat": 4,
 "nbformat_minor": 5
}
