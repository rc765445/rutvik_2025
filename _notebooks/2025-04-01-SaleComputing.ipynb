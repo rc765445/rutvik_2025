{
 "cells": [
  {
   "cell_type": "markdown",
   "metadata": {},
   "source": [
    "---\n",
    "layout: post\n",
    "title: Safe Computing Homework\n",
    "description:  Homework for Safe Computing\n",
    "type: issues \n",
    "comments: true\n",
    "courses: { csp: {week: 1} }\n",
    "comments: True\n",
    "sticky_rank: 1\n",
    "permalink: /Safe Computing/\n",
    "---"
   ]
  },
  {
   "cell_type": "markdown",
   "metadata": {},
   "source": [
    "#### Popcorn Hack: Identify PII\n",
    "- Which of the following is considered PII?\n",
    "\n",
    "A. Fingerprint\n",
    "B. Favorite Color\n",
    "C. Zip Code\n",
    "D. Job Title\n",
    "\n",
    "\n",
    "The Answer is A. Fingerprint which is correct\n",
    "\n",
    "\n",
    "Pop Quiz: Multifactor Authentication\n",
    "Which of the following is NOT an example of a multifactor authentication (MFA) factor?\n",
    "\n",
    "A. A password used to log into an email account.\n",
    "B. A verification code sent to a user's phone.\n",
    "C. A fingerprint scan on a smartphone.\n",
    "D. A username required to log in.\n",
    "\n",
    "I chose A & D which is the answer\n",
    "\n",
    "\n",
    "\n",
    "### Popcorn Hack: Encryption Quiz\n",
    "- Which of the following is an example of symmetric encryption?\n",
    "\n",
    "- A. Evy buys a locked box that operates using two different codes. When the first code is entered, a slot opens that allows a message to be put in the box. When the second code is entered, the door to the box opens. Evy gives the first code to her friends so they can leave messages for her and keeps the second code to herself so that she is the only one who can retrieve the messages.\n",
    "\n",
    "- B. Finn and Gwen develop a system that maps each letter of the alphabet to a unique symbol using a secret key. Finn uses the key to write a message to Gwen where each letter is replaced with the corresponding symbol. Gwen uses the key to map each symbol back to the original letter.\n",
    "\n",
    "- C. Hannah writes a message to send to Isabel and hides the message under a rock behind the soccer field. Hannah gives Isabel the exact location of the rock so that only Isabel can find the message.\n",
    "\n",
    "- D. Juan writes a message to send to Kelly and slides the message through a slot in the front of Kelly’s locker. Juan knows that Kelly has not shared her locker combination with anyone, so no one other than Kelly will be able to read the message.\n",
    "\n",
    "\n",
    "I chose B which is the right answer\n",
    "\n",
    "\n",
    "### Popcorn Hack: Password Security\n",
    "\n",
    "- Long – At least 12–16 characters (longer is better).\n",
    "- Complex – Includes uppercase and lowercase letters, numbers, and special characters.\n",
    "- Unpredictable – Avoids common words, phrases, or personal information (e.g., birthdays, names).\n",
    "- Unique – Different for each account to prevent credential stuffing attacks.\n",
    "- Passphrase-based – Consider using a random passphrase like \"BluePizza!9Horse$Tree\" (easier to remember but hard to guess)."
   ]
  }
 ],
 "metadata": {
  "language_info": {
   "name": "python"
  }
 },
 "nbformat": 4,
 "nbformat_minor": 2
}
