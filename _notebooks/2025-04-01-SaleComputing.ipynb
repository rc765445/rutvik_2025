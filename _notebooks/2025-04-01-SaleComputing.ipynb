{
 "cells": [
  {
   "cell_type": "markdown",
   "metadata": {},
   "source": [
    "### Pop Quiz \n",
    "- A & D. A username required to log in\n",
    "\n",
    "\n",
    "### Pop Corn Hack: Encryption Quiz\n",
    "\n",
    "Which of the following is an example of symmetrical encryption: \n",
    "\n",
    "- B.  Evy buys a locked box\n",
    "\n",
    "### Popcorn Hack: Password Security "
   ]
  }
 ],
 "metadata": {
  "language_info": {
   "name": "python"
  }
 },
 "nbformat": 4,
 "nbformat_minor": 2
}
