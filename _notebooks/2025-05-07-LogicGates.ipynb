{
 "cells": [
  {
   "cell_type": "markdown",
   "metadata": {},
   "source": [
    "---\n",
    "layout: post\n",
    "title: Logic Gates HW\n",
    "description:  Homework for Logic Gates \n",
    "type: issues \n",
    "comments: true\n",
    "courses: { csp: {week: 1} }\n",
    "comments: True\n",
    "sticky_rank: 1\n",
    "permalink: /logicgates/\n",
    "---"
   ]
  },
  {
   "cell_type": "markdown",
   "metadata": {},
   "source": [
    "### Popcorn Hack \n",
    "\n",
    "\n",
    "\n",
    "#### Health Care Devices (e.g., pacemakers, monitors):\n",
    "- Logic gates control when electrical pulses are sent.\n",
    "- Example: AND/OR gates only activate the pulse if conditions are right.\n",
    "- Impact: Improves patient safety and extends device life.\n",
    "#### Traffic Light Systems:\n",
    "- Gates process input from timers or sensors to change lights.\n",
    "- Example: An AND gate ensures lights only change when a car is present and the timer is up.\n",
    "- Impact: Reduces traffic jams and improves pedestrian safety.\n",
    "#### Home Security Systems:\n",
    "- OR gates trigger alarms when any door/window is opened.\n",
    "- AND gates ensure the system is armed before alarms are activated.\n",
    "- Impact: Increases protection and control over home safety.\n",
    "\n",
    "### Popcorn Hack #2 \n",
    "\n",
    "The question states:\n",
    "\n",
    "A digital circuit receives three binary inputs: X, Y, and Z. The circuit outputs 1 if and only if X AND Y are both 1, OR Z is 1.\n",
    "Let’s break this down step by step:\n",
    "\n",
    "Condition 1: X AND Y are both 1 → written as X AND Y\n",
    "Condition 2: Z is 1 → written as Z\n",
    "The output is 1 if either of these conditions is true, so we combine them with OR.\n",
    "Final Expression:\n",
    "(X AND Y) OR Z\n",
    "\n",
    "Correct Answer:\n",
    "✅ A. (X AND Y) OR Z\n",
    "\n",
    "### Homework Hack #1\n",
    "\n",
    "```python\n",
    "def secure_entry_system(keycard, pin, voice_auth):\n",
    "    def AND(a, b):\n",
    "        return a & b  # AND logic\n",
    "    \n",
    "    # Combine all three using nested ANDs\n",
    "    return AND(AND(keycard, pin), voice_auth)\n",
    "\n",
    "# Test cases\n",
    "print(secure_entry_system(1, 1, 1))  # Expected Output: 1 (Access Granted)\n",
    "print(secure_entry_system(1, 1, 0))  # Expected Output: 0 (Access Denied)\n",
    "print(secure_entry_system(0, 1, 1))  # Expected Output: 0 (Access Denied)\n",
    "print(secure_entry_system(1, 0, 1))  # Expected Output: 0 (Access Denied)\n",
    "```\n"
   ]
  }
 ],
 "metadata": {
  "language_info": {
   "name": "python"
  }
 },
 "nbformat": 4,
 "nbformat_minor": 2
}
