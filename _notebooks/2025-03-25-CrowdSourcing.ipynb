{
 "cells": [
  {
   "cell_type": "markdown",
   "metadata": {},
   "source": [
    "---\n",
    "layout: post\n",
    "title: CrowdSourcing Homework\n",
    "description:  Homework for Crowdsourcing, Vincent, Trevor, Wyatt \n",
    "type: issues \n",
    "comments: true\n",
    "courses: { csp: {week: 1} }\n",
    "comments: True\n",
    "sticky_rank: 1\n",
    "permalink: /CrowdSourcing/\n",
    "---"
   ]
  },
  {
   "cell_type": "markdown",
   "metadata": {},
   "source": [
    "### Rating\n",
    "\n",
    "- The lesson is a 10/10 \n",
    "\n",
    "\n",
    "\n",
    "#### Popcorn Hack #1\n",
    "\n",
    "- An example of crowdsourcing is Kickstarter. It's a platform where people contribute money to fund creative projects like movies, gadgets, or art. Backers often receive rewards or early access to the product in exchange for their support.\n",
    "\n",
    "#### Popcorn Hack #2\n",
    "\n",
    "- Crowdsourcing can be really useful, but it’s not always reliable. Since anyone can share information, there’s a chance of mistakes, bias, or even false facts. Sometimes, the most popular opinions win instead of the most accurate ones. But when used carefully—like in Wikipedia or online reviews—it can be helpful. The key is to double-check the information and not trust it blindly.\n",
    "\n",
    "#### Practice MCQ\n",
    "\n",
    "\n",
    "Which of the following best describes crowdsourcing?\n",
    "\n",
    "- a. Hiring one expert for a task.\n",
    "- b. Using AI to generate data.\n",
    "- c. Collecting contributions from a large group of people.\n",
    "- d. Outsourcing work to another company.\n",
    "\n",
    "The answer is C, which is correct!\n",
    "\n",
    "\n",
    "#### Popcorn Hack #3\n",
    "Example: Waze\n",
    "Waze is a navigation app that uses crowdsourcing to provide real-time traffic updates. Drivers share information about road conditions, accidents, and speed traps, helping others find the fastest routes. By relying on user contributions, Waze keeps its maps accurate and up-to-date.\n",
    "\n",
    "\n",
    "#### Homework Hack #1: 2 Songs\n",
    "\n",
    "- 1. Blinding Lights by The Weekend\n",
    "- 2. One Dance by Drake"
   ]
  }
 ],
 "metadata": {
  "language_info": {
   "name": "python"
  }
 },
 "nbformat": 4,
 "nbformat_minor": 2
}
