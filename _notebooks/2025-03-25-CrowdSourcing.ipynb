{
 "cells": [
  {
   "cell_type": "markdown",
   "metadata": {},
   "source": [
    "---\n",
    "layout: post\n",
    "title: CrowdSourcing Homework\n",
    "description:  Homework for Crowdsourcing, Vincent, Trevor, Wyatt \n",
    "type: issues \n",
    "comments: true\n",
    "courses: { csp: {week: 1} }\n",
    "comments: True\n",
    "sticky_rank: 1\n",
    "permalink: /CrowdSourcing/\n",
    "---"
   ]
  },
  {
   "cell_type": "markdown",
   "metadata": {},
   "source": [
    "### Rating\n",
    "\n",
    "- The lesson is a 10/10 \n",
    "\n",
    "\n",
    "\n",
    "#### Popcorn Hack #1\n",
    "\n",
    "- An example of crowdsourcing is Kickstarter. It's a platform where people contribute money to fund creative projects like movies, gadgets, or art. Backers often receive rewards or early access to the product in exchange for their support.\n",
    "\n",
    "#### Popcorn Hack #2\n",
    "\n"
   ]
  }
 ],
 "metadata": {
  "language_info": {
   "name": "python"
  }
 },
 "nbformat": 4,
 "nbformat_minor": 2
}
