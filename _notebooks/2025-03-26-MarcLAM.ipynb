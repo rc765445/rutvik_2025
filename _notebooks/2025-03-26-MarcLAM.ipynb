{
 "cells": [
  {
   "cell_type": "markdown",
   "metadata": {},
   "source": [
    "---\n",
    "layout: post\n",
    "title: MArc\n",
    "description:  marc\n",
    "type: issues \n",
    "comments: true\n",
    "courses: { csp: {week: 1} }\n",
    "comments: True\n",
    "sticky_rank: 1\n",
    "permalink: /MarcLAM/\n",
    "---"
   ]
  },
  {
   "cell_type": "markdown",
   "metadata": {
    "vscode": {
     "languageId": "plaintext"
    }
   },
   "source": [
    "Seyuh."
   ]
  }
 ],
 "metadata": {
  "language_info": {
   "name": "python"
  }
 },
 "nbformat": 4,
 "nbformat_minor": 2
}
