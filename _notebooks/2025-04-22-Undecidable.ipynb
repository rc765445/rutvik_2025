{
 "cells": [
  {
   "cell_type": "markdown",
   "id": "6bc5d638",
   "metadata": {},
   "source": [
    "---\n",
    "layout: post\n",
    "title: Random Algorithms Homework\n",
    "description:  Homework for Random , Arhaan, Ahmad, Manas \n",
    "type: issues \n",
    "comments: true\n",
    "courses: { csp: {week: 1} }\n",
    "comments: True\n",
    "sticky_rank: 1\n",
    "permalink: /RandomAlgorithms/\n",
    "---"
   ]
  },
  {
   "cell_type": "markdown",
   "id": "898cb0e9",
   "metadata": {},
   "source": [
    "### Popcorn Hack #1\n",
    "\n",
    "- An algorithm can be used to solve an undecidable problem. (True/False)\n",
    "- FALSE\n",
    "\n",
    "### Popcorn Hack #2\n",
    "- If a programmer encounters an undecidable problem, they can just use an alogirhtm that works most of the time. (True/False)\n",
    "- True\n",
    "\n",
    "\n",
    "### Popcorn Hack #3\n",
    "- Which of the following options is not an example of an undecidable problem?\n",
    "- A. Halting Problem\n",
    "- B. The Collatz Conjecture\n",
    "- C. Rice’s Theorem\n",
    "- D. Bubble sorting\n",
    "- I think the Answer is D\n",
    "\n",
    "### Homework Hack #1\n",
    "\n",
    "Modern operating systems and browsers have ways of handling infinite loops to keep things running smoothly:\n",
    "\n",
    "### 1. Operating Systems:\n",
    "   - Time-Slicing & CPU Quotas: OSs like Windows and macOS split CPU time between processes, preventing one from taking over. If a process exceeds its time limit, the OS steps in to keep things responsive.\n",
    "   - Process Termination If a process eats up too much memory or CPU, the OS can kill it to keep the system stable (e.g., the OOM Killer on Linux or task termination on Windows).\n",
    "\n",
    "### 2. **Browsers**:\n",
    "   - Timeouts: Browsers like Chrome and Firefox stop scripts that run for too long, showing a warning like \"A script is causing your browser to run slowly.\"\n",
    "   - Error Messages: When a script goes overboard, browsers display messages to let you know, like \"This page is unresponsive.\"\n",
    "   - Sandboxing: Browsers isolate scripts from each other so a runaway script doesn’t crash the whole browser.\n",
    "\n",
    "### Real-World Example:\n",
    "   - Google Chrome: Chrome stops scripts after 20 seconds and warns you about the slowdown, helping avoid a frustrating experience.\n",
    "\n",
    "These mechanisms ensure the system and browser stay responsive, even when a script or process goes rogue.\n",
    "\n",
    "\n",
    "\n",
    "\n",
    "\n",
    "\n"
   ]
  }
 ],
 "metadata": {
  "language_info": {
   "name": "python"
  }
 },
 "nbformat": 4,
 "nbformat_minor": 5
}
