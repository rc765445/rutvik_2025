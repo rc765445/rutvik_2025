{
 "cells": [
  {
   "cell_type": "markdown",
   "metadata": {},
   "source": [
    "---\n",
    "layout: post\n",
    "title: Final Blog Trimester 2\n",
    "search_exclude: true\n",
    "permalink: /finalblog/\n",
    "---"
   ]
  },
  {
   "cell_type": "markdown",
   "metadata": {},
   "source": [
    "\n",
    " ### Reflection on Trimester 2\n",
    "\n",
    "- Over the course of this Trimester 2, I felt like I grew a lot from being in this class. At first I was struggling to keep up with assignments and putting effort but over time I overcame that and worked hard to bring my grade up and learn.\n",
    "\n",
    "\n",
    "### 5 Things/Accomplishments I did:\n",
    "\n",
    "1. Frontend and Backend Development- Developed a frontend page and an api/model in the backend storing binary/decimal conversions in the backend data table. They would both be connected through crud methods and python URI (connecting to the api). \n",
    "2. \n",
    "\n",
    "\n",
    "          \n",
    " "
   ]
  }
 ],
 "metadata": {
  "language_info": {
   "name": "python"
  }
 },
 "nbformat": 4,
 "nbformat_minor": 2
}
