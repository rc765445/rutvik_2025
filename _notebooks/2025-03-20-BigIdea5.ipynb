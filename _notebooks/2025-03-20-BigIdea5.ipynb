{
 "cells": [
  {
   "cell_type": "markdown",
   "metadata": {},
   "source": [
    "---\n",
    "layout: post\n",
    "title: Big Idea 5 Homework \n",
    "description:  Homework for Big Idea 5, Manas, Arhaan, and Ahmad\n",
    "type: issues \n",
    "comments: true\n",
    "courses: { csp: {week: 1} }\n",
    "comments: True\n",
    "sticky_rank: 1\n",
    "permalink: /Big Idea 5\n",
    "---"
   ]
  },
  {
   "cell_type": "markdown",
   "metadata": {
    "vscode": {
     "languageId": "bat"
    }
   },
   "source": [
    "POPCORN HACK #1\n",
    "\n",
    "\n",
    "Beneficial Effects of Computing:\n",
    "\n",
    "- Medical Advancements: Can lead to higher technology that can improve health and life expectancy. It helps people more effeciently amd faster than humans. \n",
    "\n",
    "- Artisitic and Creative Expansion: It can help generate ideas for art, drawing, music. Acts as a way to help, artists.\n",
    "\n",
    "- Convience and Effiency: Can help generate thoughts, ideas, and technologies more quicker and faster compared to a normal human. \n",
    "\n",
    "Harmful Effects of Computing:\n",
    "\n",
    "- Cyberbullying: Bullying online, which can cause mental health issues, anxiety, and depression. An example of this is during games, social media, etc. when certain individuals want to cyber bully others for pure enjoyment. \n",
    "\n",
    "- Dependence on Technology: Now a days, everyone uses technologies such as cars, computers, and phones. If we lose that we are not gonna be able to do the same thing as we used to\n",
    "\n",
    "- Economic Impact: It replaces jobs such as cashiers in stores, which can lead to more poverty and in the end more people without jobs. Examples include the scan machines in stores, car washers, etc.\n",
    "\n",
    "- Negative Implications: Examples are drones which cause privacy errors to humans. People can stalk each other or go in unauthorized territories.\n",
    "\n",
    "POPCORN HACK #2\n",
    "\n",
    "- The meaning of negative effects of technology is when technology is used for harming others or things. This can be like cyberbullying or tracking which is used for malicous ways. We can use technology responsibly by adding privacy and security measures, implement fairness checks, and tracking the usage of Ai.\n",
    "\n",
    "POPCORN HACK #3\n",
    "\n",
    "- It’s really important to understand the unintended consequences of technology, especially dopamine-driven technology, because it deeply affects how we think, feel, and behave—often without us even realizing it.\n",
    "\n",
    "Apps, social media, and games are designed to keep us hooked by triggering dopamine, the brain’s “feel-good” chemical. Every like, notification, or achievement gives us a small hit of pleasure, making us want to come back for more. But over time, this can lead to addiction-like habits, shorter attention spans, and even anxiety or depression.\n",
    "\n",
    "\n"
   ]
  },
  {
   "cell_type": "markdown",
   "metadata": {},
   "source": [
    "HOMEWORK HACK #1\n",
    "\n",
    "\n",
    "- AI Innovation: Facial Recognition\n",
    "\n",
    "- Original Use: Designed for security and identity verification.\n",
    "\n",
    "- New Use Case: Used in healthcare to detect early signs of diseases by analyzing facial expressions, skin changes, or eye movements.\n",
    "\n",
    "- Benefits – Helps detect health issues early, provides a non-invasive way to monitor conditions.\n",
    "\n",
    "- Risks – Raises privacy concerns, potential for misdiagnosis if AI misinterprets facial data.\n",
    "\n",
    "\n",
    "HOMEWORK HACK #2\n",
    "\n",
    "- Problem: AI chatbots can spread misinformation.\n",
    "\n",
    "- Risk: AI may generate false or misleading information, which can confuse users and spread fake news.\n",
    "\n",
    "- Solution 1: Train AI with verified, high-quality sources and regularly update its database to prevent outdated or false information.\n",
    "\n",
    "- Solution 2: Adding fact-checking algorithms that flag and correct potentially misleading responses before displaying them to users.\n",
    "\n",
    "- Reflection: Ethical AI development is crucial to ensure that technology provides accurate, reliable, and unbiased information. If AI is not carefully designed, it can cause real harm by spreading misinformation. Developers must take responsibility to build AI systems that are transparent, fair, and accountable to the public."
   ]
  },
  {
   "cell_type": "markdown",
   "metadata": {},
   "source": [
    "HOMEWORK HACK #3\n",
    "\n",
    "- AI Example: Amazon’s AI Hiring Tool\n",
    "\n",
    "What Happened: Amazon created an AI tool to help streamline the hiring process, but it ended up being biased. The AI was trained on resumes from the past, and since historically more men were hired for tech roles, the system started favoring male candidates. It even penalized resumes with words like \"women’s\" (such as \"women's leadership group\"), unintentionally leading to gender discrimination.\n",
    "\n",
    "Response: After realizing the tool was unfair, Amazon scrapped it. They admitted the problem but didn’t immediately implement a better solution, leaving the hiring process in need of improvement.\n",
    "\n",
    "Prevention: Amazon could have tested the AI with more diverse data from the start and regularly checked for biases. They could have incorporating human judgment in the hiring process could have helped ensure that decisions were fair and not solely based on what the AI learned from historical patterns."
   ]
  }
 ],
 "metadata": {
  "language_info": {
   "name": "python"
  }
 },
 "nbformat": 4,
 "nbformat_minor": 2
}
